{
 "cells": [
  {
   "cell_type": "code",
   "execution_count": 14,
   "source": [
    "#利用使用者所輸入的球體半徑來計算其體積(V)及表面積(A)：V = 4/3πr3 , A = 4πr2\r\n",
    "def computeVolumeAndAreaOfSphere():\r\n",
    "    import math\r\n",
    "    radius  = eval(input(\"What is the [RADIUS] of a sphere?\"))\r\n",
    "    print(\"The [RADIUS] of this sphere what you input is\", radius)\r\n",
    "    volume  = 4*math.pi*radius**3/3\r\n",
    "    area    = 4*math.pi*radius**2\r\n",
    "    print(\"So that, the [VOLUME] of this sphere is\", volume)\r\n",
    "    print(\"And the [AREA] of this sphere is\", area)\r\n",
    "computeVolumeAndAreaOfSphere()"
   ],
   "outputs": [
    {
     "output_type": "stream",
     "name": "stdout",
     "text": [
      "The [RADIUS] of this sphere what you input is 5\n",
      "So that the [VOLUME] of this sphere is 523.5987755982989\n",
      "And the [AREA] of this sphere is 314.1592653589793\n"
     ]
    }
   ],
   "metadata": {}
  },
  {
   "cell_type": "code",
   "execution_count": 20,
   "source": [
    "#工人欲粉刷某個高度的牆壁，所需使用梯子的長度為何？由使用者輸入高度及梯子與地面的角度。\r\n",
    "def computeLadderLength():\r\n",
    "    import math\r\n",
    "    wallHeight  = eval(input(\"What is the [HEIGHT] of this wall?\"))\r\n",
    "    pitchAngle  = eval(input(\"And what is the [PITCH](in degree) of the ladder?\")) \r\n",
    "    print(\"The [HEIGHT] of this wall what you input is\", wallHeight)\r\n",
    "    print(\"And the [PITCH](in degree) of this ladder what you input is\", pitchAngle)\r\n",
    "    radAngle    = math.pi*pitchAngle/180            #角度轉弧度, for math trigonometric(rad)\r\n",
    "    ladderLength= wallHeight*1/math.sin(radAngle)   #牆高*cosecant(弧度角) = 梯長  \r\n",
    "    print(\"So that, the [LENGTH]] of this ladder is\", ladderLength)\r\n",
    "computeLadderLength()"
   ],
   "outputs": [
    {
     "output_type": "stream",
     "name": "stdout",
     "text": [
      "The [HEIGHT] of this wall what you input is 50\n",
      "And the [PITCH](in degree) of this ladder what you input is 30\n",
      "So that, the [LENGTH]] of this ladder is 100.00000000000001\n"
     ]
    }
   ],
   "metadata": {}
  },
  {
   "cell_type": "code",
   "execution_count": 41,
   "source": [
    "#π 的近似值可以如此計算：4/1 – 4/3 + 4/5 – 4/7 + 4/9 – 4/11 + ...，令使用者輸入要計算幾個項目，然後計算π 的近似值。\r\n",
    "def computePI():\r\n",
    "    pi      = 0\r\n",
    "    i       = 1\r\n",
    "    count   = eval(input(\"What is the numner [AMOUNT] of this formula, 4/1 – 4/3 + 4/5 – 4/7 + 4/9 – 4/11 + ...?\"))\r\n",
    "    print(\"The [AMOUNT] of this formula 4/1 – 4/3 + 4/5 – 4/7 + 4/9 – 4/11 + ... what you input is\", count)\r\n",
    "    if count > 0:\r\n",
    "        while i <= count:\r\n",
    "            if i % 2 == 1:\r\n",
    "                pi  = pi + 4*1/(2*i-1)\r\n",
    "            else:\r\n",
    "                pi  = pi - 4*1/(2*i-1)\r\n",
    "            i = i+1\r\n",
    "    print(\"So that, the [APPROXIMATION] of π is\", pi) \r\n",
    "computePI()    "
   ],
   "outputs": [
    {
     "output_type": "stream",
     "name": "stdout",
     "text": [
      "The [AMOUNT] of this formula 4/1 – 4/3 + 4/5 – 4/7 + 4/9 – 4/11 + ... what you input is 10000\n",
      "So that, the [APPROXIMATION] of π is 3.1414926535900345\n"
     ]
    }
   ],
   "metadata": {}
  },
  {
   "cell_type": "code",
   "execution_count": 44,
   "source": [
    "#將avg2.py 程式改為計算3 個分數的平均值。\r\n",
    "#def avg2():\r\n",
    "#    print(\"The program computes the average of two exam scores.\")\r\n",
    "#    score1, score2=eval(input(\"Enter two scores separated by a comma:\"))\r\n",
    "#    average=(score1+score2)/2\r\n",
    "#    print(\"The average of the scores is:\", average)\r\n",
    "#avg2()\r\n",
    "def average3():\r\n",
    "    print(\"The program computes the average of three exam scores.\")\r\n",
    "    score1, score2, score3  = eval(input(\"Enter [THREE SCORES] separated by a comma:\"))\r\n",
    "    average = (score1+score2+score3)/3\r\n",
    "    print(\"The [THREE SCORES] what you input is\", score1, \",\", score2, \",\", score3)\r\n",
    "    print(\"The average of these scores is:\", average)\r\n",
    "average3()"
   ],
   "outputs": [
    {
     "output_type": "stream",
     "name": "stdout",
     "text": [
      "The program computes the average of three exam scores.\n",
      "The [THREE SCORES] what you input is 55 , 74 , 89\n",
      "The average of the scores is: 72.66666666666667\n"
     ]
    }
   ],
   "metadata": {}
  },
  {
   "cell_type": "code",
   "execution_count": 50,
   "source": [
    "#將convert.py 程式改為利用for 迴圈計算5 次度數轉換。\r\n",
    "#def convert():\r\n",
    "#    celsius=eval(input(\"What is the Celsius temperature?\"))\r\n",
    "#    fahrenheit=9/5*celsius+32\r\n",
    "#    print(\"The temperature is\", fahrenheit,\"degree Fahrenheit.\")\r\n",
    "#convert()\r\n",
    "def convertArray():\r\n",
    "    print(\"What is the 5 Celsius to Fahrenheit temperatures?\")\r\n",
    "    celsiusArray    = [0, 0, 0, 0, 0]\r\n",
    "    celsiusArray[0], celsiusArray[1], celsiusArray[2], celsiusArray[3], celsiusArray[4] = eval(input(\"Enter [FIVE CELSIUS TEMPERATURES] separated by a comma:\"))\r\n",
    "    print(\"The [FIVE CELSIUS TEMPERATURES] what you input is below\")\r\n",
    "    for i in range(5):\r\n",
    "        fahrenheit  = 9/5*celsiusArray[i]+32\r\n",
    "        print(\"The Celsius[\", i ,\"] is\", celsiusArray[i], \", equals to\", fahrenheit, \"degree Fahrenheit\")\r\n",
    "convertArray()"
   ],
   "outputs": [
    {
     "output_type": "stream",
     "name": "stdout",
     "text": [
      "What is the 5 Celsius to Fahrenheit temperatures?\n",
      "The [FIVE CELSIUS TEMPERATURES] what you input is below\n",
      "The Celsius[ 0 ] is 25 , equals to 77.0 degree Fahrenheit\n",
      "The Celsius[ 1 ] is 41 , equals to 105.8 degree Fahrenheit\n",
      "The Celsius[ 2 ] is 67 , equals to 152.60000000000002 degree Fahrenheit\n",
      "The Celsius[ 3 ] is 73 , equals to 163.4 degree Fahrenheit\n",
      "The Celsius[ 4 ] is 100 , equals to 212.0 degree Fahrenheit\n"
     ]
    }
   ],
   "metadata": {}
  },
  {
   "cell_type": "code",
   "execution_count": 53,
   "source": [
    "#將futval.py 程式改為依照使用者指定年限來計算未來價值。\r\n",
    "#def futval1():\r\n",
    "#    print(\"The program calculates the future value of a year investment.\")\r\n",
    "#    principal=eval(input(\"Enter the initial principal:\"))\r\n",
    "#    apr=eval(input(\"Enter the annual interest rate:\"))\r\n",
    "#    for i in range(10):\r\n",
    "#        principal=principal*(1+apr)\r\n",
    "#    print(\"The value in 10 year is:\", principal)\r\n",
    "#futval1()\r\n",
    "def futureValue():\r\n",
    "    print(\"The program calculates the future value of a year investment.\")\r\n",
    "    principal   = eval(input(\"Enter the initial [PRINCIPAL]:\"))\r\n",
    "    print(\"The initial [PRINCIPAL] what you input is:\", principal)\r\n",
    "    apr         = eval(input(\"Enter the [ANNUAL INTEREST RATE]:\"))\r\n",
    "    print(\"The [ANNUAL INTEREST RATE] what you input is:\", apr)\r\n",
    "    year        = eval(input(\"Enter the [YEAR]:\"))\r\n",
    "    print(\"The [YEAR] what you input is:\", year)\r\n",
    "    for i in range(year):\r\n",
    "        principal   = principal*(1+apr)\r\n",
    "    print(\"So that, the [FUTURE VALUE] after\", year, \"year is:\", principal)\r\n",
    "futureValue()"
   ],
   "outputs": [
    {
     "output_type": "stream",
     "name": "stdout",
     "text": [
      "The program calculates the future value of a year investment.\n",
      "The initial [PRINCIPAL] what you input is: 50\n",
      "The [ANNUAL INTEREST RATE] what you input is: 0.2\n",
      "The [YEAR] what you input is: 20\n",
      "So that, the [FUTURE VALUE] after 20 year is: 1916.8799962237367\n"
     ]
    }
   ],
   "metadata": {}
  }
 ],
 "metadata": {
  "kernelspec": {
   "name": "python3",
   "display_name": "Python 3.9.5 64-bit"
  },
  "language_info": {
   "codemirror_mode": {
    "name": "ipython",
    "version": 3
   },
   "file_extension": ".py",
   "mimetype": "text/x-python",
   "name": "python",
   "nbconvert_exporter": "python",
   "pygments_lexer": "ipython3",
   "version": "3.9.5"
  },
  "interpreter": {
   "hash": "b003d8754f68205f230b91d29752a0899194161977d5c87b83f80e078894fa96"
  }
 },
 "nbformat": 4,
 "nbformat_minor": 2
}